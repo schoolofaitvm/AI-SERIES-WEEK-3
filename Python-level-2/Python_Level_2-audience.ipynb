{
  "nbformat": 4,
  "nbformat_minor": 0,
  "metadata": {
    "colab": {
      "name": "Python-Level-2.ipynb",
      "version": "0.3.2",
      "provenance": [],
      "collapsed_sections": [
        "NsgcTLTit-aQ",
        "D1JWk8L_uE0q",
        "m5b1j52xuWjY"
      ]
    },
    "kernelspec": {
      "display_name": "Python [default]",
      "language": "python",
      "name": "python3"
    }
  },
  "cells": [
    {
      "metadata": {
        "id": "tcG4coLj8Pm8",
        "colab_type": "text"
      },
      "cell_type": "markdown",
      "source": [
        "<center>\n",
        "![img](https://github.com/schoolofaitvm/AI-SERIES-WEEK-3/blob/master/Python-level-2/logo_w.png?raw=1 =600x)\n",
        " <h1> Python level 2 </h1></center> "
      ]
    },
    {
      "metadata": {
        "colab_type": "text",
        "id": "6FAoMT3WsfLc"
      },
      "cell_type": "markdown",
      "source": [
        "# Python Classes/Objects\n",
        "\n",
        "Python is an object oriented programming language.\n",
        "Almost everything in Python is an object, with its properties and methods.\n",
        "A Class is like an object constructor, or a \"blueprint\" for creating objects.\n",
        "To create a class, use the keyword class:"
      ]
    },
    {
      "metadata": {
        "colab_type": "code",
        "id": "OTK9TBJEs8Cv",
        "colab": {}
      },
      "cell_type": "code",
      "source": [
        "# Define a class MyClass here with a variable x =5."
      ],
      "execution_count": 0,
      "outputs": []
    },
    {
      "metadata": {
        "colab_type": "text",
        "id": "ESdcYVx_tEV5"
      },
      "cell_type": "markdown",
      "source": [
        "Now we can use the class named myClass to create objects:\n",
        "\n"
      ]
    },
    {
      "metadata": {
        "colab_type": "code",
        "id": "nOsYjst6tHsD",
        "colab": {}
      },
      "cell_type": "code",
      "source": [
        "# to Create an object named p1, and print the value of x:"
      ],
      "execution_count": 0,
      "outputs": []
    },
    {
      "metadata": {
        "colab_type": "text",
        "id": "umemrAXNtR5u"
      },
      "cell_type": "markdown",
      "source": [
        "##The __init__() Function\n",
        "The examples above are classes and objects in their simplest form, and are not really useful in real life applications.\n",
        "To understand the meaning of classes we have to understand the built-in __init__() function.\n",
        "All classes have a function called __init__(), which is always executed when the class is being initiated.\n",
        "Use the __init__() function to assign values to object properties, or other operations that are necessary to do when the object is being created:"
      ]
    },
    {
      "metadata": {
        "colab_type": "code",
        "id": "V67T5O2utezg",
        "colab": {}
      },
      "cell_type": "code",
      "source": [
        "#Here we can create a class named Person, use the __init__() function to assign values for name and age:\n",
        "\n",
        "#The __init__() function is called automatically every time the class is being used to create a new object."
      ],
      "execution_count": 0,
      "outputs": []
    },
    {
      "metadata": {
        "colab_type": "text",
        "id": "s8MffRd0tsQn"
      },
      "cell_type": "markdown",
      "source": [
        "## Object Methods\n",
        "Objects can also contain methods. Methods in objects are functions that belongs to the object.\n",
        "\n",
        "Let's  create a method in the Person class:"
      ]
    },
    {
      "metadata": {
        "colab_type": "code",
        "id": "6lxFwYoutxb7",
        "colab": {}
      },
      "cell_type": "code",
      "source": [
        "# Here we will insert a function that prints a greeting, and execute it on the p1 object:\n",
        "\n"
      ],
      "execution_count": 0,
      "outputs": []
    },
    {
      "metadata": {
        "colab_type": "text",
        "id": "lpcmX4sYt6ho"
      },
      "cell_type": "markdown",
      "source": [
        "* The self parameter is a reference to the class instance itself, and is used to access variables that belongs to the class."
      ]
    },
    {
      "metadata": {
        "colab_type": "text",
        "id": "r9MbbeH3uAC5"
      },
      "cell_type": "markdown",
      "source": [
        "## The self Parameter\n",
        "The self parameter is a reference to the class itself, and is used to access variables that belongs to the class.\n",
        "\n",
        "It does not have to be named self , you can call it whatever you like, but it has to be the first parameter of any function in the class:"
      ]
    },
    {
      "metadata": {
        "colab_type": "code",
        "id": "-J7dcpQkuF7Z",
        "colab": {}
      },
      "cell_type": "code",
      "source": [
        "#Use the words mysillyobject and abc instead of self:\n",
        "\n"
      ],
      "execution_count": 0,
      "outputs": []
    },
    {
      "metadata": {
        "colab_type": "text",
        "id": "IiFBCJBEuMB_"
      },
      "cell_type": "markdown",
      "source": [
        "### Modify Object Properties\n",
        "You can modify properties on objects like this:"
      ]
    },
    {
      "metadata": {
        "colab_type": "code",
        "id": "WY6Jv0mmuSQJ",
        "colab": {}
      },
      "cell_type": "code",
      "source": [
        "#Set the age of p1 to 40:\n"
      ],
      "execution_count": 0,
      "outputs": []
    },
    {
      "metadata": {
        "colab_type": "text",
        "id": "DNJQsrkUuWEx"
      },
      "cell_type": "markdown",
      "source": [
        "## Delete Object Properties\n",
        "You can delete properties on objects by using the del keyword:"
      ]
    },
    {
      "metadata": {
        "colab_type": "code",
        "id": "zG8K80ReueDU",
        "colab": {}
      },
      "cell_type": "code",
      "source": [
        "#Delete the age property from the p1 object using the del keyword:\n"
      ],
      "execution_count": 0,
      "outputs": []
    },
    {
      "metadata": {
        "colab_type": "text",
        "id": "_Avg_AF3uj2z"
      },
      "cell_type": "markdown",
      "source": [
        "## Delete Objects\n",
        "You can delete objects by using the del keyword:"
      ]
    },
    {
      "metadata": {
        "colab_type": "code",
        "id": "dXccHuLxuku2",
        "colab": {}
      },
      "cell_type": "code",
      "source": [
        "#Delete the p1 object:\n"
      ],
      "execution_count": 0,
      "outputs": []
    },
    {
      "metadata": {
        "colab_type": "text",
        "id": "8mU7kIx5p2zk"
      },
      "cell_type": "markdown",
      "source": [
        "# Python Iterators\n",
        "An iterator is an object that contains a countable number of values.\n",
        "An iterator is an object that can be iterated upon, meaning that you can traverse through all the values.\n",
        "Technically, in Python, an iterator is an object which implements the iterator protocol, which consist of the methods __iter__() and __next__().\n",
        "\n",
        "## Iterator vs Iterable\n",
        "Lists, tuples, dictionaries, and sets are all iterable objects. They are iterable containers which you can get an iterator from.\n",
        "\n",
        "All these objects have a __iter__() method which is used to get an iterator:"
      ]
    },
    {
      "metadata": {
        "colab_type": "code",
        "id": "qUCfflg6qBBA",
        "colab": {}
      },
      "cell_type": "code",
      "source": [
        "# Create a tuple with apple, banana and cherry.\n",
        "# Create an iterator object using the iter()\n",
        "\n",
        "# print the iterated values using the next()\n"
      ],
      "execution_count": 0,
      "outputs": []
    },
    {
      "metadata": {
        "colab_type": "code",
        "id": "78eTrcJdqFkk",
        "colab": {}
      },
      "cell_type": "code",
      "source": [
        "# Strings are also iterable objects, containing a sequence of characters:\n",
        "# Create a string and iterate in the same manner\n"
      ],
      "execution_count": 0,
      "outputs": []
    },
    {
      "metadata": {
        "colab_type": "code",
        "id": "Fl7dXvi0qL4o",
        "colab": {}
      },
      "cell_type": "code",
      "source": [
        "#Iterate the characters of a string:"
      ],
      "execution_count": 0,
      "outputs": []
    },
    {
      "metadata": {
        "colab_type": "text",
        "id": "3Qa9ULKsqQ9a"
      },
      "cell_type": "markdown",
      "source": [
        "## Creating an Iterator\n",
        "* To create an object/class as an iterator you have to implement the methods __iter__() and __next__() to your object.\n",
        "\n",
        "* As you have learned in the Python Classes/Objects chapter, all classes have a function called __init__(), which allows you do some initializing when the object is being created.\n",
        "\n",
        "* The __iter__() method acts similar, you can do operations (initializing etc.), but must always return the iterator object itself.\n",
        "\n",
        "* The __next__() method also allows you to do operations, and must return the next item in the sequence."
      ]
    },
    {
      "metadata": {
        "colab_type": "code",
        "id": "D2R5_4-Fq0yA",
        "colab": {}
      },
      "cell_type": "code",
      "source": [
        "# Create an iterator that returns numbers, starting with 1, \n",
        "# and each sequence will increase by one (returning 1,2,3,4,5 etc.):\n"
      ],
      "execution_count": 0,
      "outputs": []
    },
    {
      "metadata": {
        "colab_type": "text",
        "id": "vrScNQErq4IA"
      },
      "cell_type": "markdown",
      "source": [
        "### StopIteration\n",
        "The example above would continue forever if you had enough next() statements, or if it was used in a for loop.\n",
        "\n",
        "To prevent the iteration to go on forever, we can use the StopIteration statement.\n",
        "\n",
        "* In the __next__() method, we can add a terminating condition to raise an error if the iteration is done a specified number of times:"
      ]
    },
    {
      "metadata": {
        "colab_type": "code",
        "id": "-wWG-B4crAlz",
        "colab": {}
      },
      "cell_type": "code",
      "source": [
        "#an example to stop after 20 iterations:\n"
      ],
      "execution_count": 0,
      "outputs": []
    },
    {
      "metadata": {
        "colab_type": "text",
        "id": "1vmiHPB5KLap"
      },
      "cell_type": "markdown",
      "source": [
        "# Python Generators\n",
        "Generators are objects in python which will generate values when we call them at once. Suppose you want to find a sequence of numbers, this is ideally possible if we want to generate a reasonable number of outputs. In that case, we can use *return* which will return all the outputs in one pass. However, when the number of the sequence we want to get is very large such that it will not fit in our memory, we will have to consider an alternative way to generate this sequence. \n"
      ]
    },
    {
      "metadata": {
        "colab_type": "code",
        "id": "iANyypyoLpZv",
        "colab": {}
      },
      "cell_type": "code",
      "source": [
        "def gen_nums():\n",
        "  i = 0\n",
        "  arr = []\n",
        "  while(True):\n",
        "    arr.append(i)\n",
        "    i = i+1\n",
        "    break\n",
        "    ## consider if we want to generate infinite numbers, it is not possible with return\n",
        "  return arr"
      ],
      "execution_count": 0,
      "outputs": []
    },
    {
      "metadata": {
        "colab_type": "code",
        "id": "DKjXUYdZMXlk",
        "colab": {}
      },
      "cell_type": "code",
      "source": [
        "gen_nums()"
      ],
      "execution_count": 0,
      "outputs": []
    },
    {
      "metadata": {
        "colab_type": "text",
        "id": "-8ShhTsRMcFC"
      },
      "cell_type": "markdown",
      "source": [
        "### Yield keyword\n",
        "\n",
        "That is where the yeild keyword comes into play. The *yield* keyword returns the value just like how a *return* keyword would do. But instead of a value, we get a generator object which can generate values as long as we have specified in the function."
      ]
    },
    {
      "metadata": {
        "colab_type": "code",
        "id": "Up_2NAwYMabI",
        "colab": {}
      },
      "cell_type": "code",
      "source": [
        "# Define a function which generates infinite values from 1. Use yield keyword to return the values."
      ],
      "execution_count": 0,
      "outputs": []
    },
    {
      "metadata": {
        "colab_type": "code",
        "id": "GFmS8M0KNkmy",
        "colab": {}
      },
      "cell_type": "code",
      "source": [
        "# Generate the numbers using the next() function."
      ],
      "execution_count": 0,
      "outputs": []
    },
    {
      "metadata": {
        "colab_type": "text",
        "id": "wvKBRAttNtjY"
      },
      "cell_type": "markdown",
      "source": [
        "We see that we can generate a generator object.\n",
        "\n",
        "##### Generating values\n",
        "The values of a generator object can be generated by using the *next(generator_obj)* function.\n",
        "This will generate values after applying the update if any, and we can call it till the iteration is complete."
      ]
    },
    {
      "metadata": {
        "colab_type": "code",
        "id": "Umz1kSroNmkq",
        "colab": {}
      },
      "cell_type": "code",
      "source": [
        "## Generating the first 10 values given by our generator.\n"
      ],
      "execution_count": 0,
      "outputs": []
    },
    {
      "metadata": {
        "colab_type": "text",
        "id": "zVq04fJwO1vx"
      },
      "cell_type": "markdown",
      "source": [
        "### Significance of Generators in python\n",
        "In Data Science, we will always have to deal with datasets of sizes more than what can fit in our computer's memory. So we will not be able to read all of it into memory. And while processing, there will come a need to iterate over the entire dataset. This challenge is solved by the *yield* keyword. Which can read the data according to the limit and then read the next set in the coming iteration. "
      ]
    },
    {
      "metadata": {
        "colab_type": "text",
        "id": "GlmqOx_rtPfu"
      },
      "cell_type": "markdown",
      "source": [
        "# Python Try Except\n",
        "\n",
        "Now, we're going to deal with Exception Handling in Python.\n",
        "\n",
        "* The **try** block lets you test a block of code for errors.\n",
        "\n",
        "* The **except** block lets you handle the error.\n",
        "\n",
        "* The **finally** block lets you execute code, regardless of the result of the try- and except blocks."
      ]
    },
    {
      "metadata": {
        "colab_type": "text",
        "id": "GtCKq259tq7m"
      },
      "cell_type": "markdown",
      "source": [
        "### Exception Handling\n",
        "When an error occurs, or exception as we call it, Python will normally stop and generate an error message.\n",
        "\n",
        "These exceptions can be handled using the try statement:"
      ]
    },
    {
      "metadata": {
        "colab_type": "code",
        "id": "CqqXAR88tt0m",
        "colab": {}
      },
      "cell_type": "code",
      "source": [
        "#The try block will generate an exception, because x is not defined:\n",
        "\n",
        "  \n",
        "#This statement will raise an error, because x is not defined:\n",
        "#print(x)"
      ],
      "execution_count": 0,
      "outputs": []
    },
    {
      "metadata": {
        "colab_type": "text",
        "id": "NsgcTLTit-aQ"
      },
      "cell_type": "markdown",
      "source": [
        "### Many Exceptions\n",
        "You can define as many exception blocks as you want, e.g. if you want to execute a special block of code for a special kind of error:"
      ]
    },
    {
      "metadata": {
        "colab_type": "code",
        "id": "8XmPzHzZuB4o",
        "colab": {}
      },
      "cell_type": "code",
      "source": [
        "#Print one message if the try block raises a NameError and another for other errors:\n",
        "\n"
      ],
      "execution_count": 0,
      "outputs": []
    },
    {
      "metadata": {
        "colab_type": "text",
        "id": "D1JWk8L_uE0q"
      },
      "cell_type": "markdown",
      "source": [
        "### Else\n",
        "\n",
        "You can use the else keyword to define a block of code to be executed if no errors were raised:"
      ]
    },
    {
      "metadata": {
        "colab_type": "code",
        "id": "XGJzhHciuRnR",
        "colab": {}
      },
      "cell_type": "code",
      "source": [
        "#In this example, the try block does not generate any error:\n",
        "\n"
      ],
      "execution_count": 0,
      "outputs": []
    },
    {
      "metadata": {
        "colab_type": "text",
        "id": "m5b1j52xuWjY"
      },
      "cell_type": "markdown",
      "source": [
        "### Finally\n",
        "The finally block, if specified, will be executed regardless if the try block raises an error or not.\n",
        "\n"
      ]
    },
    {
      "metadata": {
        "colab_type": "code",
        "id": "hmBU4fJsubCD",
        "colab": {}
      },
      "cell_type": "code",
      "source": [
        "# In this example, add the finally block too.\n"
      ],
      "execution_count": 0,
      "outputs": []
    },
    {
      "metadata": {
        "colab_type": "text",
        "id": "r1vR31l3ugMB"
      },
      "cell_type": "markdown",
      "source": [
        "This can be useful to close objects and clean up resources:\n",
        "\n"
      ]
    },
    {
      "metadata": {
        "colab_type": "text",
        "id": "PFdBhRwNLmer"
      },
      "cell_type": "markdown",
      "source": [
        "# Python Modules \n",
        "Python **modules** and Python **packages** are the two mechanisms that facilitate modular programming.\n",
        "\n",
        "**Modular** programming refers to the process of breaking a large, unwieldy programming task into separate, smaller, more manageable subtasks or modules. Individual modules can then be cobbled together like building blocks to create a larger application.\n",
        "\n",
        "There are several advantages to modularizing code in a large application:\n",
        "\n",
        "* Simplicity\n",
        "* Maintainability\n",
        "\n",
        "* Reusability\n",
        "\n",
        "\n"
      ]
    },
    {
      "metadata": {
        "colab_type": "code",
        "id": "m3HPY6oIMZKj",
        "colab": {}
      },
      "cell_type": "code",
      "source": [
        "s = \"If Comrade Napoleon says it, it must be right.\"\n",
        "a = [100, 200, 300]\n",
        "\n",
        "def foo(arg):\n",
        "    print(f'arg = {arg}')\n",
        "\n",
        "class Foo:\n",
        "    pass"
      ],
      "execution_count": 0,
      "outputs": []
    },
    {
      "metadata": {
        "colab_type": "text",
        "id": "0Ez5iCwaMc6d"
      },
      "cell_type": "markdown",
      "source": [
        "Several objects are also defined in mod.py:\n",
        "\n",
        "* s (a string)\n",
        "* a (a list)\n",
        "* foo() (a function)\n",
        "* Foo (a class)"
      ]
    },
    {
      "metadata": {
        "colab_type": "text",
        "id": "XPUoFWtvN2lC"
      },
      "cell_type": "markdown",
      "source": [
        "#Python Inheritance\n",
        "In object-oriented programming (OOP), inheritance is a way to reuse code of existing objects. It’s good when you want to establish a subtype from an existing object. Objects are defined by classes, classes can inherit attributes and behavior from pre-existing classes. The resulting classes are known as derived classes or subclasses.\n",
        "\n",
        "A subclass “inherits” all the attributes (methods, etc) of the parent class. We can create new attributes or methods to add to the behavior of the parent We can change (“override”) some or all of the attributes or methods to change the behavior. We can also extend the behavior of the parent by using the original methods and adding a bit more.\n",
        "\n",
        "We indicate that a new class should inherit from an existing class by placing the name of the existing class in the list of base classes. The class(es) named in the list of base classes must be in the current namespace when the class statement is evaluated. For compatibility across Python 2 and 3, any new classes we create wil always inherit from at least object. This basic class sits at the top of the Python data model, and is in the __builtin__ namespace.\n",
        "\n",
        "This is a pseudocode model for the simplest subclass in Python:\n",
        "\n"
      ]
    },
    {
      "metadata": {
        "colab_type": "code",
        "id": "adJBE2LwOCwj",
        "colab": {}
      },
      "cell_type": "code",
      "source": [
        "#class Subclass(Superclass):\n",
        "#    pass"
      ],
      "execution_count": 0,
      "outputs": []
    },
    {
      "metadata": {
        "colab_type": "text",
        "id": "C-jS_qqPN-kA"
      },
      "cell_type": "markdown",
      "source": [
        "### Overriding attributes\n",
        "One of the core purposes of a subclass is to change the behavior of the parent class in some useful way. We call this overriding the inherited behavior. Overriding attributes of a parent class in Python is as simple as creating a new attribute with the same name:\n"
      ]
    },
    {
      "metadata": {
        "colab_type": "code",
        "id": "Q8NLyxOyOZAx",
        "colab": {}
      },
      "cell_type": "code",
      "source": [
        "#example\n",
        "class Circle(object):\n",
        "    color = \"red\"\n",
        "\n",
        "class NewCircle(Circle):\n",
        "    color = \"blue\"\n",
        "\n",
        "nc = NewCircle\n",
        "print(nc.color)\n",
        "#blue\n",
        "\n",
        "#Any instances of the new class will have the blue color. Instances of the original class will have the red color."
      ],
      "execution_count": 0,
      "outputs": []
    },
    {
      "metadata": {
        "colab_type": "text",
        "id": "Qr9WE0CsOjxf"
      },
      "cell_type": "markdown",
      "source": [
        "### Overriding methods\n",
        "Overriding methods works in exactly the same way (remember, a method is an attribute in python).\n"
      ]
    },
    {
      "metadata": {
        "colab_type": "code",
        "id": "QUgylATEOmLl",
        "colab": {}
      },
      "cell_type": "code",
      "source": [
        "class Circle:\n",
        "    def __init__(self,diameter):\n",
        "      self.diameter = diameter\n",
        "      \n",
        "    def grow(self,factor=1):\n",
        "        \"\"\"grows the circle's diameter by factor\"\"\"\n",
        "        self.diameter = self.diameter * factor\n",
        "        return self.diameter\n",
        "\n",
        "temp= Circle(24)\n",
        "print(temp.grow(2))"
      ],
      "execution_count": 0,
      "outputs": []
    },
    {
      "metadata": {
        "colab_type": "text",
        "id": "0Wb0VDwSO518"
      },
      "cell_type": "markdown",
      "source": [
        "Instances of the new circle class will have the new behavior for the grow method. Instances of the existing class will continue to have the old behavior.\n",
        "\n",
        "When overriding behavior for a subclass, remember that in good OO programming a subclass should be substantially similar to its parents. If you have a system which uses the parent class, you should be able to use the subclass in all the same places, and in all the same ways. This is known as the “Liskov Substitution Principle”."
      ]
    },
    {
      "metadata": {
        "colab_type": "text",
        "id": "svmUis8ZO_Eb"
      },
      "cell_type": "markdown",
      "source": [
        "### Extending Methods\n",
        "Wanting or needing to override __init__ is very common. After all, we are trying to modify how the parent class works. However, we often also want to do some or all of the things that the parent class does with __init__. We really want to extend the functionality of the parent class __init__. Think “do everything my parent does, plus this other stuff”.\n"
      ]
    },
    {
      "metadata": {
        "colab_type": "code",
        "id": "PBON_dr7PCFA",
        "colab": {}
      },
      "cell_type": "code",
      "source": [
        "class Circle(object):\n",
        "    color = \"red\"\n",
        "    def __init__(self, diameter):\n",
        "        self.diameter = diameter\n"
      ],
      "execution_count": 0,
      "outputs": []
    },
    {
      "metadata": {
        "colab_type": "code",
        "id": "Z5FPntXmPEXU",
        "colab": {}
      },
      "cell_type": "code",
      "source": [
        "...\n",
        "class CircleR(Circle):\n",
        "    def __init__(self, radius):\n",
        "        diameter = radius*2\n",
        "        Circle.__init__(self, diameter)"
      ],
      "execution_count": 0,
      "outputs": []
    },
    {
      "metadata": {
        "colab_type": "text",
        "id": "OTJlCgMMPV8h"
      },
      "cell_type": "markdown",
      "source": [
        "# Composition\n",
        "Let’s imagine that we have a class that needs to accumulate an arbitrary number of objects. A list can do that, so we should subclass list, right?\n",
        "\n",
        "The thing is, that in addition to being able to accumulate objects, lists support a number of other operations. We can iterate over the objects they contain. We can sort and reverse them.\n",
        "\n",
        "Does our new class need to do all those things? If the answer is no, then our new class might be better served by containing a list, rather than inheriting from it.\n",
        "\n",
        "Composition is another Object Oriented programming approach. We use it when we want to use some aspect of another class without promising all of the features of that other class.\n",
        "\n",
        "Think about our example. Maybe accumulating objects is all we want this new class to do. No other functionality from a list is required. We can build our class to contain a list:\n"
      ]
    },
    {
      "metadata": {
        "colab_type": "code",
        "id": "iWgn8ZyqPZmG",
        "colab": {}
      },
      "cell_type": "code",
      "source": [
        "class Accumulator(object):\n",
        "    def __init__(self):\n",
        "       self._container = []\n",
        "    def accumulate(self, obj):\n",
        "        self._container.append(obj)\n",
        "    def stuff(self):\n",
        "      return self._container[:]\n",
        " #b"
      ],
      "execution_count": 0,
      "outputs": []
    },
    {
      "metadata": {
        "colab_type": "text",
        "id": "cCImJysVBm3y"
      },
      "cell_type": "markdown",
      "source": [
        "# Packages\n",
        "Let’s imagine that we have a class that needs to accumulate an arbitrary number of objects. A list can do that, so we should subclass list, right?\n",
        "\n",
        "The thing is, that in addition to being able to accumulate objects, lists support a number of other operations. We can iterate over the objects they contain. We can sort and reverse them.\n",
        "\n",
        "Does our new class need to do all those things? If the answer is no, then our new class might be better served by containing a list, rather than inheriting from it.\n",
        "\n",
        "Composition is another Object Oriented programming approach. We use it when we want to use some aspect of another class without promising all of the features of that other class.\n",
        "\n",
        "Think about our example. Maybe accumulating objects is all we want this new class to do. No other functionality from a list is required. We can build our class to contain a list:\n"
      ]
    },
    {
      "metadata": {
        "colab_type": "code",
        "id": "10nROIBvF1Hy",
        "outputId": "65091738-d5bd-4ded-8cdd-c1b97ce07810",
        "colab": {
          "resources": {
            "http://localhost:8080/nbextensions/google.colab/files.js": {
              "data": "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",
              "ok": true,
              "headers": [
                [
                  "content-type",
                  "application/javascript"
                ]
              ],
              "status": 200,
              "status_text": ""
            }
          },
          "base_uri": "https://localhost:8080/",
          "height": 39
        }
      },
      "cell_type": "code",
      "source": [
        "# uploading files in google colab\n",
        "from google.colab import files\n",
        "uploaded = files.upload()\n"
      ],
      "execution_count": 17,
      "outputs": [
        {
          "output_type": "display_data",
          "data": {
            "text/html": [
              "\n",
              "     <input type=\"file\" id=\"files-a1eea082-83cf-41f1-b3da-443741ca3d02\" name=\"files[]\" multiple disabled />\n",
              "     <output id=\"result-a1eea082-83cf-41f1-b3da-443741ca3d02\">\n",
              "      Upload widget is only available when the cell has been executed in the\n",
              "      current browser session. Please rerun this cell to enable.\n",
              "      </output>\n",
              "      <script src=\"/nbextensions/google.colab/files.js\"></script> "
            ],
            "text/plain": [
              "<IPython.core.display.HTML object>"
            ]
          },
          "metadata": {
            "tags": []
          }
        }
      ]
    },
    {
      "metadata": {
        "colab_type": "code",
        "id": "K93IWn3UF_h2",
        "colab": {}
      },
      "cell_type": "code",
      "source": [
        "# importing pandas ppackage and executing a operation\n",
        "import pandas as pd\n",
        "df=pd.read_csv(\"sample.csv\")\n",
        "df.head()"
      ],
      "execution_count": 0,
      "outputs": []
    },
    {
      "metadata": {
        "colab_type": "text",
        "id": "3z30f7NzCUd8"
      },
      "cell_type": "markdown",
      "source": [
        "# File handling\n",
        "\n",
        "Files are very important in any application. In data science especially, there will be needs to process raw text files and do some preprocessing before converting them to csv or other formats. Reading a file is done using the *open(filename, open_flag)* function. Where the *filename* corresponds to the filename itself and the *open_flag* corresponds to the read write permissions. \n",
        "\n",
        "The various file permissions are: \n",
        "- 'r'   : \tOpen a file for reading. (default)\n",
        "- 'w' : \tOpen a file for writing. Creates a new file if it does not exist or truncates the file if it exists.\n",
        "- 'x'  : \tOpen a file for exclusive creation. If the file already exists, the operation fails.\n",
        "- 'a'  : \tOpen for appending at the end of the file without truncating it. Creates a new file if it does not exist.\n",
        "- 't'   : \tOpen in text mode. (default)\n",
        "- 'b'  : \tOpen in binary mode.\n",
        "- '+'  : \tOpen a file for updating (reading and writing)\n",
        "\n",
        "After reading the file, the file needs to be closed in order to avoid errors while accessing by other processors."
      ]
    },
    {
      "metadata": {
        "colab_type": "code",
        "id": "LaAj68B1CAJ1",
        "colab": {}
      },
      "cell_type": "code",
      "source": [
        "# Specify the filename\n",
        "filename = 'sample.csv'"
      ],
      "execution_count": 0,
      "outputs": []
    },
    {
      "metadata": {
        "colab_type": "text",
        "id": "ZZQzA9oMD81Y"
      },
      "cell_type": "markdown",
      "source": [
        "### Reading the entire file"
      ]
    },
    {
      "metadata": {
        "colab_type": "code",
        "id": "EwCLmj4KDx3c",
        "colab": {}
      },
      "cell_type": "code",
      "source": [
        "## use the open file and the 'r' flag to open a file and read the file using the read() function\n"
      ],
      "execution_count": 0,
      "outputs": []
    },
    {
      "metadata": {
        "colab_type": "text",
        "id": "DBIfDA2UQME1"
      },
      "cell_type": "markdown",
      "source": [
        "The *read()* reads the entire file into a string. But instead of that, we can read a file line by line using the *readline()* . "
      ]
    },
    {
      "metadata": {
        "colab_type": "code",
        "id": "Oa9NEhSREczu",
        "colab": {}
      },
      "cell_type": "code",
      "source": [
        "# Read only a line using the readline() function.\n"
      ],
      "execution_count": 0,
      "outputs": []
    },
    {
      "metadata": {
        "colab_type": "text",
        "id": "sDUc3MvJRZYG"
      },
      "cell_type": "markdown",
      "source": [
        "# With keyword\n",
        "\n",
        "The __with__ keyword is used to wrap a block of code or the function with its  _\\_exit__  condition. An _\\_exit__ condition can be the __close()__ like for a file. So the advantage is that you can open a file using the with statement and then write all the code for processing the file under the with block and when the execution exists the with block it will automatically close the file, i.e the file's _\\_exit__ condition. \n",
        "\n",
        "Syntax:\n",
        "\n",
        "```\n",
        "with open(filename, flag) as file:\n",
        "    print(file.readline())\n",
        "```"
      ]
    },
    {
      "metadata": {
        "colab_type": "code",
        "id": "-NnznbHKSBv8",
        "colab": {}
      },
      "cell_type": "code",
      "source": [
        "## specify the open() function after the with statement. and read the file.\n"
      ],
      "execution_count": 0,
      "outputs": []
    }
  ]
}